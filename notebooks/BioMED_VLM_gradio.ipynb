{
 "cells": [
  {
   "cell_type": "markdown",
   "metadata": {},
   "source": [
    "# Gradio Chatbot"
   ]
  },
  {
   "cell_type": "code",
   "execution_count": 1,
   "metadata": {},
   "outputs": [],
   "source": [
    "import gradio as gr"
   ]
  },
  {
   "cell_type": "code",
   "execution_count": 2,
   "metadata": {},
   "outputs": [],
   "source": [
    "def count_images(message, history):\n",
    "    num_images = len(message[\"files\"])\n",
    "    total_images = 0\n",
    "    for message in history:\n",
    "        if isinstance(message[\"content\"], tuple):\n",
    "            total_images += 1\n",
    "    return f\"You just uploaded {num_images} images, total uploaded: {total_images+num_images}\""
   ]
  },
  {
   "cell_type": "code",
   "execution_count": 22,
   "metadata": {},
   "outputs": [
    {
     "name": "stdout",
     "output_type": "stream",
     "text": [
      "* Running on local URL:  http://127.0.0.1:7877\n",
      "\n",
      "To create a public link, set `share=True` in `launch()`.\n"
     ]
    },
    {
     "data": {
      "text/html": [
       "<div><iframe src=\"http://127.0.0.1:7877/\" width=\"100%\" height=\"500\" allow=\"autoplay; camera; microphone; clipboard-read; clipboard-write;\" frameborder=\"0\" allowfullscreen></iframe></div>"
      ],
      "text/plain": [
       "<IPython.core.display.HTML object>"
      ]
     },
     "metadata": {},
     "output_type": "display_data"
    },
    {
     "data": {
      "text/plain": []
     },
     "execution_count": 22,
     "metadata": {},
     "output_type": "execute_result"
    }
   ],
   "source": [
    "demo = gr.ChatInterface(\n",
    "    title=\"BioMED\",\n",
    "    description=\"## A description for the interface; if provided, appears above the chatbot and beneath the title in regular font. Accepts Markdown and HTML content.\",\n",
    "    theme=\"gradio/monochrome\",\n",
    "    show_progress=\"full\",\n",
    "    fill_height=True,\n",
    "    fill_width=True,\n",
    "    # save_history=True,\n",
    "    fn=count_images, \n",
    "    type=\"messages\", \n",
    "    # examples=[\n",
    "    #     {\"text\": \"No files\", \"files\": []}\n",
    "    # ], \n",
    "    multimodal=True,\n",
    "    textbox=gr.MultimodalTextbox(file_count=\"multiple\", file_types=[\"image\", \".pdf\"], sources=[\"upload\"], interactive=True),\n",
    ")\n",
    "\n",
    "demo.launch()"
   ]
  },
  {
   "cell_type": "code",
   "execution_count": 23,
   "metadata": {},
   "outputs": [
    {
     "name": "stdout",
     "output_type": "stream",
     "text": [
      "* Running on local URL:  http://127.0.0.1:7878\n",
      "\n",
      "To create a public link, set `share=True` in `launch()`.\n"
     ]
    },
    {
     "data": {
      "text/html": [
       "<div><iframe src=\"http://127.0.0.1:7878/\" width=\"100%\" height=\"500\" allow=\"autoplay; camera; microphone; clipboard-read; clipboard-write;\" frameborder=\"0\" allowfullscreen></iframe></div>"
      ],
      "text/plain": [
       "<IPython.core.display.HTML object>"
      ]
     },
     "metadata": {},
     "output_type": "display_data"
    },
    {
     "data": {
      "text/plain": []
     },
     "execution_count": 23,
     "metadata": {},
     "output_type": "execute_result"
    },
    {
     "name": "stdout",
     "output_type": "stream",
     "text": [
      "HISTORY []  | MESSAGE Hi\n",
      "HISTORY [{'role': 'user', 'metadata': None, 'content': 'Hi', 'options': None}, {'role': 'assistant', 'metadata': None, 'content': 'Hi', 'options': None}]  | MESSAGE How are you\n",
      "HISTORY [{'role': 'user', 'metadata': None, 'content': 'Hi', 'options': None}, {'role': 'assistant', 'metadata': None, 'content': 'Hi', 'options': None}, {'role': 'user', 'metadata': None, 'content': 'How are you', 'options': None}, {'role': 'assistant', 'metadata': None, 'content': 'How are you', 'options': None}]  | MESSAGE Bye\n"
     ]
    }
   ],
   "source": [
    "# import gradio as gr\n",
    "\n",
    "# def echo(message, history):\n",
    "#     print(\"HISTORY\", history, \" | MESSAGE\", message)\n",
    "#     return message\n",
    "\n",
    "# demo = gr.ChatInterface(fn=echo, type=\"messages\", examples=[\"hello\", \"hola\", \"merhaba\"], title=\"Echo Bot\")\n",
    "# demo.launch()"
   ]
  }
 ],
 "metadata": {
  "kernelspec": {
   "display_name": ".venv",
   "language": "python",
   "name": "python3"
  },
  "language_info": {
   "codemirror_mode": {
    "name": "ipython",
    "version": 3
   },
   "file_extension": ".py",
   "mimetype": "text/x-python",
   "name": "python",
   "nbconvert_exporter": "python",
   "pygments_lexer": "ipython3",
   "version": "3.13.0"
  }
 },
 "nbformat": 4,
 "nbformat_minor": 2
}
