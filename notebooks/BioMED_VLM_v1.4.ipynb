{
 "cells": [
  {
   "cell_type": "markdown",
   "metadata": {},
   "source": [
    "# BioMED Image-Text-to-Text meta-llama/Llama-3.2-11B-Vision-Instruct"
   ]
  },
  {
   "cell_type": "code",
   "execution_count": null,
   "metadata": {},
   "outputs": [],
   "source": [
    "from PIL import Image\n",
    "from transformers import pipeline"
   ]
  },
  {
   "cell_type": "code",
   "execution_count": null,
   "metadata": {},
   "outputs": [],
   "source": [
    "pipe = pipeline(\"image-text-to-text\", model=\"meta-llama/Llama-3.2-11B-Vision-Instruct\")"
   ]
  },
  {
   "cell_type": "code",
   "execution_count": null,
   "metadata": {},
   "outputs": [],
   "source": [
    "img_path = \"../data/master_data/brain_xray.jpeg\"\n",
    "\n",
    "## 1\n",
    "# text = \"a photography of\"\n",
    "\n",
    "## 2\n",
    "# text = \"\"\"Analyze the provided photograph and perform the following tasks:\n",
    "#             1. Identification: Describe the key features or abnormalities visible in the image.\n",
    "#             2. Prognosis: Suggest potential implications or diagnoses based on the identified features (if applicable).\n",
    "#             3. Description: Provide a detailed summary of the observed structures, focusing on medical relevance.\"\"\"\n",
    "\n",
    "## 3\n",
    "text = \"do the prognosis\""
   ]
  },
  {
   "cell_type": "code",
   "execution_count": null,
   "metadata": {},
   "outputs": [],
   "source": [
    "\n",
    "messages = [\n",
    "    {\n",
    "        \"role\": \"user\",\n",
    "        \"content\": [\n",
    "            {\n",
    "                \"type\": \"image\",\n",
    "                \"image\": img_path,\n",
    "            },\n",
    "            {\"type\": \"text\", \"text\": \"Describe this image.\"},\n",
    "        ],\n",
    "    },\n",
    "    # {\n",
    "    #     \"role\": \"assistant\",\n",
    "    #     \"content\": [\n",
    "    #         {\"type\": \"text\", \"text\": \"There's a pink flower\"},\n",
    "    #     ],\n",
    "    # },\n",
    "]"
   ]
  },
  {
   "cell_type": "code",
   "execution_count": null,
   "metadata": {},
   "outputs": [],
   "source": [
    "outputs = pipe(text=messages, max_new_tokens=20, return_full_text=False)\n",
    "outputs[0][\"generated_text\"]"
   ]
  }
 ],
 "metadata": {
  "kernelspec": {
   "display_name": ".venv",
   "language": "python",
   "name": "python3"
  },
  "language_info": {
   "codemirror_mode": {
    "name": "ipython",
    "version": 3
   },
   "file_extension": ".py",
   "mimetype": "text/x-python",
   "name": "python",
   "nbconvert_exporter": "python",
   "pygments_lexer": "ipython3",
   "version": "3.11.0"
  }
 },
 "nbformat": 4,
 "nbformat_minor": 2
}
