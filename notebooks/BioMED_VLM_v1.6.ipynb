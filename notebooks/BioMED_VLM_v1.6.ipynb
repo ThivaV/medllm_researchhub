{
 "cells": [
  {
   "cell_type": "markdown",
   "metadata": {},
   "source": [
    "# BioMED Image-Text-to-Text mistralai/Pixtral-12B-2409"
   ]
  },
  {
   "cell_type": "markdown",
   "metadata": {},
   "source": [
    "[mistralai/Pixtral-12B-2409](https://huggingface.co/mistralai/Pixtral-12B-2409)"
   ]
  },
  {
   "cell_type": "code",
   "execution_count": null,
   "metadata": {},
   "outputs": [],
   "source": [
    "from PIL import Image\n",
    "from transformers import pipeline"
   ]
  },
  {
   "cell_type": "code",
   "execution_count": null,
   "metadata": {},
   "outputs": [],
   "source": [
    "pipe = pipeline(\"image-text-to-text\", model=\"mistralai/Pixtral-12B-2409\")"
   ]
  }
 ],
 "metadata": {
  "kernelspec": {
   "display_name": ".venv",
   "language": "python",
   "name": "python3"
  },
  "language_info": {
   "name": "python",
   "version": "3.11.0"
  }
 },
 "nbformat": 4,
 "nbformat_minor": 2
}
